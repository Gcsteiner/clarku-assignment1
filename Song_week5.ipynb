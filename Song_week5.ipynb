{
 "cells": [
  {
   "cell_type": "markdown",
   "metadata": {},
   "source": [
    "<h1> Section 1) Problem description (0%) </h1>\n",
    "\n",
    "<h3>In this assignment you will get to practice with a very simple neural network implementation from scratch. This neural network, will have to learn what the important features are in the data to produce the output. In particular, this neural net will be given an input matrix of zeros and ones. The output to each sample will be a single one or zero. The output will be determined by the number in the first feature column of the data samples."
   ]
  },
  {
   "cell_type": "code",
   "execution_count": 1,
   "metadata": {},
   "outputs": [],
   "source": [
    "#Import required libraries\n",
    "import numpy as np \n",
    "import matplotlib.pyplot as plt \n",
    "from numpy import genfromtxt"
   ]
  },
  {
   "cell_type": "markdown",
   "metadata": {},
   "source": [
    "<h1> Section 2) This is your starting code for this assignment (20%) </h1>\n",
    "<h3>(If you copy this code block and execute it it will run. However in this section the request for full credit is to change the inputs and outputs to a function or functions that fetches the inputsANDoutputs.csv file and produces the needed input and output arrays for you. Failure to implement a function to do this will drop your score for this section to 0%. If you cannot figure it out and only alter the code to insert the values manually to proceed to the other sections, will only earn you 5%)\n",
    "\n",
    "The link for the training data is the following: https://github.com/barnysanchez/clarku-assignment4/raw/main/inputANDoutputs.csv"
   ]
  },
  {
   "cell_type": "code",
   "execution_count": 2,
   "metadata": {},
   "outputs": [],
   "source": [
    "#Input data and the location to fetch data is: https://github.com/barnysanchez/clarku assignment4/raw/main/inputANDoutputs.csv\n",
    "my_data = genfromtxt('https://github.com/barnysanchez/clarku-assignment4/raw/main/inputANDoutputs.csv',delimiter=',',skip_header=1)"
   ]
  },
  {
   "cell_type": "code",
   "execution_count": 3,
   "metadata": {},
   "outputs": [],
   "source": [
    "#Use two functions to generate the input and output\n",
    "inputs = my_data[:, :-1]\n",
    "outputs = my_data[:,[-1]]"
   ]
  },
  {
   "cell_type": "code",
   "execution_count": 164,
   "metadata": {},
   "outputs": [
    {
     "name": "stdout",
     "output_type": "stream",
     "text": [
      "[[0.99848281]]  - Correct:  1\n",
      "[[0.00412886]]  - Correct:  0\n"
     ]
    },
    {
     "data": {
      "image/png": "[encoded data removed]",
      "text/plain": [
       "<Figure size 1080x360 with 1 Axes>"
      ]
     },
     "metadata": {
      "needs_background": "light"
     },
     "output_type": "display_data"
    }
   ],
   "source": [
    "# create NeuralNetwork class\n",
    "class NeuralNetwork:\n",
    "\n",
    "    # intialize variables in class\n",
    "    def __init__(self, inputs, outputs):\n",
    "        self.inputs  = inputs\n",
    "        self.outputs = outputs\n",
    "        # initialize weights as .50 for simplicity\n",
    "        self.weights = np.array([[.50], [.50], [.50]])\n",
    "        self.error_history = []\n",
    "        self.epoch_list = []\n",
    "\n",
    "    #activation function ==> S(x) = 1/1+e^(-x)\n",
    "    def sigmoid(self, x, deriv=False):\n",
    "        if deriv == True:\n",
    "            return x * (1 - x)\n",
    "        return 1 / (1 + np.exp(-x))\n",
    "\n",
    "    # data will flow through the neural network.\n",
    "    def feed_forward(self):\n",
    "        self.hidden = self.sigmoid(np.dot(self.inputs, self.weights))\n",
    "\n",
    "    # going backwards through the network to update weights\n",
    "    def backpropagation(self):\n",
    "        self.error  = self.outputs - self.hidden\n",
    "        delta = self.error * self.sigmoid(self.hidden, deriv=True)\n",
    "        self.weights += np.dot(self.inputs.T, delta)\n",
    "\n",
    "    # train the neural net for 5 iterations\n",
    "    def train(self, epochs=4100):\n",
    "        for epoch in range(epochs):\n",
    "            # flow forward and produce an output\n",
    "            self.feed_forward()\n",
    "            # go back though the network to make corrections based on the output\n",
    "            self.backpropagation()    \n",
    "            # keep track of the error history over each epoch\n",
    "            self.error_history.append(np.average(np.abs(self.error)))\n",
    "            self.epoch_list.append(epoch)\n",
    "\n",
    "    # function to predict output on new and unseen input data                               \n",
    "    def predict(self, new_input):\n",
    "        prediction = self.sigmoid(np.dot(new_input, self.weights))\n",
    "        return prediction\n",
    "\n",
    "# create neural network   \n",
    "NN = NeuralNetwork(inputs, outputs)\n",
    "# train neural network\n",
    "NN.train()\n",
    "\n",
    "# create two new examples to predict                                   \n",
    "example = np.array([[1, 1, 0]])\n",
    "example_2 = np.array([[0, 1, 1]])\n",
    "\n",
    "# print the predictions for both examples                                   \n",
    "print(NN.predict(example), ' - Correct: ', example[0][0])\n",
    "print(NN.predict(example_2), ' - Correct: ', example_2[0][0])\n",
    "\n",
    "# plot the error over the entire training duration\n",
    "plt.figure(figsize=(15,5))\n",
    "plt.hlines(y= 0.99, xmin=0, xmax=len(NN.error_history), linewidth=1) \n",
    "plt.plot(NN.epoch_list,[1-error for error in NN.error_history])\n",
    "plt.xlabel('Epoch')\n",
    "plt.ylabel('Error')\n",
    "plt.show()"
   ]
  },
  {
   "cell_type": "markdown",
   "metadata": {},
   "source": [
    "<h1>Section 3) Determine the number of epochs needed to achieve 99% prediction accuracy. Manipulate the plot to clearly show this (35%)\n",
    " </h1>\n",
    "<h3>(Once with the code running after your previous modifications, determine the number of epochs needed to achieve 99% prediction accuracy. I will look at your plot for this but put a comment in your Jupyter cells and call out that number clearly, the number of epochs you determined were needed. The plot will give me confirmation of your statement.)"
   ]
  },
  {
   "cell_type": "code",
   "execution_count": 173,
   "metadata": {},
   "outputs": [
    {
     "data": {
      "image/png": "[encoded data removed]",
      "text/plain": [
       "<Figure size 432x288 with 1 Axes>"
      ]
     },
     "metadata": {
      "needs_background": "light"
     },
     "output_type": "display_data"
    },
    {
     "name": "stdout",
     "output_type": "stream",
     "text": [
      "[4057]\n"
     ]
    }
   ],
   "source": [
    "#Use np.sign in combination with np.diff and np.argwhere to obtain the indices of intersection points \n",
    "# where the 99% accuracy line and the trendline.\n",
    "x=np.arange(0, len(NN.epoch_list))\n",
    "y1=np.array([0.99,]*len(NN.epoch_list))\n",
    "y2=np.array([1-error for error in NN.error_history])\n",
    "\n",
    "idx=np.argwhere(np.diff(np.sign(y1 - y2 )) != 0).reshape(-1) + 0\n",
    "plt.plot(x, y1)\n",
    "plt.plot(x, y2)\n",
    "for i in range(len(idx)):\n",
    "    plt.plot((x[idx[i]]+x[idx[i]+1])/2.,(y1[idx[i]]+y1[idx[i]+1])/2., 'ro')\n",
    "plt.legend(['99% accuracy line', 'Trendline'])\n",
    "plt.show()   \n"
   ]
  },
  {
   "cell_type": "code",
   "execution_count": 181,
   "metadata": {},
   "outputs": [
    {
     "name": "stdout",
     "output_type": "stream",
     "text": [
      "The number of epochs needed to achieve 99% prediction accuracy: [4057]\n"
     ]
    }
   ],
   "source": [
    "#Give the exactly number of epochs: 4057 epochs\n",
    "print('The number of epochs needed to achieve 99% prediction accuracy:',x[idx])"
   ]
  },
  {
   "cell_type": "markdown",
   "metadata": {},
   "source": [
    "<h1> Section 4) Change the prediction function to use a softmax activation function instead of sigmoid and determine the number of epochs needed to achieve 99% prediction accuracy with the new prediction function. Manipulate the plot to clearly show this (45%)</h1>"
   ]
  },
  {
   "cell_type": "code",
   "execution_count": 174,
   "metadata": {},
   "outputs": [],
   "source": [
    "class NeuralNetwork_softmax:\n",
    "\n",
    "    # intialize variables in class\n",
    "    def __init__(self, inputs, outputs):\n",
    "        self.inputs  = inputs\n",
    "        self.outputs = outputs\n",
    "        # initialize weights as .50 for simplicity\n",
    "        self.weights = np.array([[.50], [.50], [.50]])\n",
    "        self.error_history = []\n",
    "        self.epoch_list = []\n",
    "\n",
    "    #activation function ==> exp(logits) / reduce_sum(exp(logits), dim)\n",
    "    def softmax(self, x, deriv=False):\n",
    "        if deriv == True:\n",
    "            return x * (1 - x)\n",
    "        return np.exp(x)/ np.sum(np.exp(x), axis=0)\n",
    "\n",
    "    # data will flow through the neural network.\n",
    "    def feed_forward(self):\n",
    "        self.hidden = self.softmax(np.dot(self.inputs, self.weights))\n",
    "\n",
    "    # going backwards through the network to update weights\n",
    "    def backpropagation(self):\n",
    "        self.error  = self.outputs - self.hidden\n",
    "        delta = self.error * self.softmax(self.hidden, deriv=True)\n",
    "        self.weights += np.dot(self.inputs.T, delta)\n",
    "\n",
    "    # train the neural net for 1000 iterations\n",
    "    def train(self, epochs=1000):\n",
    "        for epoch in range(epochs):\n",
    "            # flow forward and produce an output\n",
    "            self.feed_forward()\n",
    "            # go back though the network to make corrections based on the output\n",
    "            self.backpropagation()    \n",
    "            # keep track of the error history over each epoch\n",
    "            self.error_history.append(np.average(np.abs(self.error)))\n",
    "            self.epoch_list.append(epoch)\n",
    "\n",
    "    # function to predict output on new and unseen input data                               \n",
    "    def predict(self, new_input):\n",
    "        prediction = self.softmax(np.dot(new_input, self.weights))\n",
    "        return prediction"
   ]
  },
  {
   "cell_type": "code",
   "execution_count": 184,
   "metadata": {},
   "outputs": [
    {
     "name": "stdout",
     "output_type": "stream",
     "text": [
      "[[1.]]  - Correct:  1\n",
      "[[1.]]  - Correct:  0\n"
     ]
    },
    {
     "data": {
      "image/png": "[encoded data removed]",
      "text/plain": [
       "<Figure size 1080x360 with 1 Axes>"
      ]
     },
     "metadata": {
      "needs_background": "light"
     },
     "output_type": "display_data"
    }
   ],
   "source": [
    "# create neural network   \n",
    "NN = NeuralNetwork_softmax(inputs, outputs)\n",
    "# train neural network\n",
    "NN.train()\n",
    "\n",
    "# create two new examples to predict                                   \n",
    "example = np.array([[1, 1, 0]])\n",
    "example_2 = np.array([[0, 1, 1]])\n",
    "\n",
    "# print the predictions for both examples                                   \n",
    "print(NN.predict(example), ' - Correct: ', example[0][0])\n",
    "print(NN.predict(example_2), ' - Correct: ', example_2[0][0])\n",
    "\n",
    "# plot the error over the entire training duration\n",
    "plt.figure(figsize=(15,5))\n",
    "plt.hlines(y= 0.99, xmin=0, xmax=len(NN.error_history), linewidth=1) \n",
    "plt.plot(NN.epoch_list,[1-error for error in NN.error_history])\n",
    "plt.xlabel('Epoch')\n",
    "plt.ylabel('Error')\n",
    "plt.legend(['Trendline', '99% accuracy line'])\n",
    "plt.show()"
   ]
  },
  {
   "cell_type": "markdown",
   "metadata": {},
   "source": [
    "<h2> For some reasons, I found that the error rate no longer decreases after reaching 25%. That is to say, there is no hope of achieving 99% accuracy. I think there is some error in my softmax function definition. But I still hope to reach the goal of 99%, so I decided to use tensorflow"
   ]
  },
  {
   "cell_type": "code",
   "execution_count": 191,
   "metadata": {},
   "outputs": [],
   "source": [
    "import tensorflow as tf "
   ]
  },
  {
   "cell_type": "code",
   "execution_count": 192,
   "metadata": {},
   "outputs": [],
   "source": [
    "#tensorflow's soft receive another type y label, so I manully define it\n",
    "output = np.array([[1,0],\n",
    "       [1,0],\n",
    "       [0,1],\n",
    "       [0,1]])"
   ]
  },
  {
   "cell_type": "code",
   "execution_count": 193,
   "metadata": {},
   "outputs": [],
   "source": [
    "xx = tf.placeholder(tf.float32, [None, 3])\n",
    "yy = tf.placeholder(tf.float32, [None, 2])\n",
    "nb_classes = 2"
   ]
  },
  {
   "cell_type": "code",
   "execution_count": 194,
   "metadata": {},
   "outputs": [],
   "source": [
    "W = tf.Variable(tf.random_normal([3, nb_classes]), name='weight')\n",
    "b = tf.Variable(tf.random_normal([nb_classes]), name='bias')"
   ]
  },
  {
   "cell_type": "code",
   "execution_count": 195,
   "metadata": {},
   "outputs": [],
   "source": [
    "# tf.nn.softmax computes softmax activations\n",
    "# softmax = exp(logits) / reduce_sum(exp(logits), dim)\n",
    "hypothesis = tf.nn.softmax(tf.matmul(xx, W) + b)\n",
    "\n",
    "# Cross entropy cost/loss\n",
    "cost = tf.reduce_mean(-tf.reduce_sum(yy * tf.log(hypothesis), axis=1))\n",
    "optimizer = tf.train.GradientDescentOptimizer(learning_rate=0.1).minimize(cost)"
   ]
  },
  {
   "cell_type": "code",
   "execution_count": 196,
   "metadata": {},
   "outputs": [
    {
     "name": "stdout",
     "output_type": "stream",
     "text": [
      "0 0.43831235\n",
      "100 0.13446847\n",
      "200 0.08047837\n",
      "300 0.057823684\n",
      "400 0.045259938\n",
      "500 0.037239857\n",
      "600 0.031663228\n",
      "700 0.027555415\n",
      "800 0.02440079\n",
      "900 0.021900605\n",
      "1000 0.019869406\n",
      "1100 0.01818608\n",
      "1200 0.016767872\n",
      "1300 0.015556511\n",
      "1400 0.014509651\n",
      "1500 0.013595829\n",
      "1600 0.012791085\n",
      "1700 0.012076887\n",
      "1800 0.01143881\n",
      "1900 0.010865163\n",
      "2000 0.010346721\n",
      "2100 0.00987574\n"
     ]
    }
   ],
   "source": [
    "# Launch graph\n",
    "with tf.Session() as sess:\n",
    "    sess.run(tf.global_variables_initializer())\n",
    "    for step in range(2101):\n",
    "        sess.run(optimizer, feed_dict={xx: inputs, yy: output})\n",
    "        if step % 100 == 0:\n",
    "            print(step, sess.run(cost, feed_dict={xx: inputs, yy: output}))"
   ]
  },
  {
   "cell_type": "markdown",
   "metadata": {},
   "source": [
    "<h2> As a result, I think we can expect 99% accuracy rate if our epochs is larger than 2100 while we use softmax function."
   ]
  },
  {
   "cell_type": "code",
   "execution_count": null,
   "metadata": {},
   "outputs": [],
   "source": []
  }
 ],
 "metadata": {
  "kernelspec": {
   "display_name": "Python 3",
   "language": "python",
   "name": "python3"
  },
  "language_info": {
   "codemirror_mode": {
    "name": "ipython",
    "version": 3
   },
   "file_extension": ".py",
   "mimetype": "text/x-python",
   "name": "python",
   "nbconvert_exporter": "python",
   "pygments_lexer": "ipython3",
   "version": "3.7.3"
  }
 },
 "nbformat": 4,
 "nbformat_minor": 4
}
