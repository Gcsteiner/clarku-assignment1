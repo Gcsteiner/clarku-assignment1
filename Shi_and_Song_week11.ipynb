{
 "cells": [
  {
   "cell_type": "code",
   "execution_count": 2,
   "metadata": {},
   "outputs": [],
   "source": [
    "import pandas as pd\n",
    "import numpy as np\n",
    "from sklearn.model_selection import train_test_split\n",
    "from sklearn.svm import LinearSVC\n",
    "from sklearn.neighbors import KNeighborsClassifier\n",
    "from sklearn.naive_bayes import MultinomialNB, GaussianNB\n",
    "from sklearn.metrics import accuracy_score, classification_report, confusion_matrix\n",
    "from sklearn.model_selection import cross_val_score\n",
    "from sklearn.tree import DecisionTreeClassifier\n",
    "from sklearn.model_selection import KFold\n",
    "from sklearn.model_selection import train_test_split\n",
    "from sklearn.model_selection import cross_val_score\n",
    "import scikitplot as skplt\n",
    "import matplotlib.pyplot as plt"
   ]
  },
  {
   "cell_type": "markdown",
   "metadata": {},
   "source": [
    "## Section 1) Summary of your project (10%)\n",
    "#### (1) As a graduate student whose family income is affected by COVID-19, I often wonder whether I should make some financial investment to reduce the risk of uncertainty. So based on the concept of accurate advertising, we want to know whether it is possible to collect some features of young people through a questionnaire, and then use these features to classify the students. Those students who are willing to use the cash back of the credit card to invest will be the ideal advertising target for financial companies. This will be a classification problem, more specifically a binary problem - use cash back for investment or not.\n",
    "\n",
    "\n",
    "#### (2) The data is collected through questionnaire that distributed in school, and each question will be served as an input feature in the machine learning model. The questionnaire receives 100 responses from Clark University. Before data analysis, we have to clean and preprocess the data as the response is raw data and some answers have a different format or missing values. After data cleaning, we can choose different machine learning models and apply the selected model to predict students interested in the credit card investing option. Our model's input is the respondents' features in multiple dimensions, from objective age, majors, monthly income, etc. to subjective consumption bills, investment channels, etc. The output of our model is the categories of respondents. Therefore, our project will be a classification model in supervised learning\n",
    "\n",
    "\n",
    "#### (3) For the questionnaire stage, our success criterion is the number of questionnaires finally available is more than 40. Although we use the SVM algorithm that is not sensitive to the amount of data, we believe that if the data set is too small, it will still be unconvincing. For the stage of building and testing the model, given that the size of our data set is small, then the test set that is divided out will be even smaller, so every correct or wrong prediction will have a notable impact on the accuracy rate. Therefore, based on the size of the test set, we hope that the prediction accuracy rate can be higher than 60%. For our purpose that verifying our conjecture, the 60% accuracy rate is sufficient to show that our direction is correct. The relationship between features and investment willingness is not random. If we have the opportunity to obtain a larger dataset, we are confident that we can obtain a much higher accuracy rate."
   ]
  },
  {
   "cell_type": "markdown",
   "metadata": {},
   "source": [
    "## Section 2) Show the code and architecutre of your ML (20%)"
   ]
  },
  {
   "cell_type": "markdown",
   "metadata": {},
   "source": [
    "### In our project, we used two models to predict output. One is support vector machine; another is random forest. Support vector machine aims to find a hyperplane in an N-dimensional space that distinctly classifies the data points. We choose SVM because the model works with the limited dataset. We also include random forest because the model has feature selection that allow us to select important features and reduce noisy"
   ]
  },
  {
   "cell_type": "code",
   "execution_count": 3,
   "metadata": {},
   "outputs": [
    {
     "data": {
      "text/html": [
       "<div>\n",
       "<style scoped>\n",
       "    .dataframe tbody tr th:only-of-type {\n",
       "        vertical-align: middle;\n",
       "    }\n",
       "\n",
       "    .dataframe tbody tr th {\n",
       "        vertical-align: top;\n",
       "    }\n",
       "\n",
       "    .dataframe thead th {\n",
       "        text-align: right;\n",
       "    }\n",
       "</style>\n",
       "<table border=\"1\" class=\"dataframe\">\n",
       "  <thead>\n",
       "    <tr style=\"text-align: right;\">\n",
       "      <th></th>\n",
       "      <th>Unnamed: 0</th>\n",
       "      <th>Feature_Age</th>\n",
       "      <th>Label_Option</th>\n",
       "      <th>Feature_Average_income</th>\n",
       "      <th>Feature_Employed_No</th>\n",
       "      <th>Feature_Employed_Yes</th>\n",
       "      <th>Feature_Cashback_spending_Apply to statement balance</th>\n",
       "      <th>Feature_Cashback_spending_Redeem as cash</th>\n",
       "      <th>Feature_Cashback_spending_Use to purchase gift cards</th>\n",
       "      <th>Feature_Most_expense_Eating out (restaurants, coffee, etc.)</th>\n",
       "      <th>Feature_Most_expense_Entertainment (movies, shows, concerts, etc.)</th>\n",
       "      <th>Feature_Most_expense_Groceries/day-to-day needs</th>\n",
       "      <th>Feature_Most_expense_Other</th>\n",
       "      <th>Feature_Most_expense_Transportation (Uber, buses, train, subway)</th>\n",
       "      <th>Feature_Most_expense_Travel</th>\n",
       "      <th>Feature_Education_level_Graduate (Masters)</th>\n",
       "      <th>Feature_Education_level_Other</th>\n",
       "      <th>Feature_Education_level_Undergraduate</th>\n",
       "    </tr>\n",
       "  </thead>\n",
       "  <tbody>\n",
       "    <tr>\n",
       "      <th>0</th>\n",
       "      <td>2</td>\n",
       "      <td>2.2</td>\n",
       "      <td>0</td>\n",
       "      <td>1.00</td>\n",
       "      <td>0</td>\n",
       "      <td>1</td>\n",
       "      <td>1</td>\n",
       "      <td>0</td>\n",
       "      <td>0</td>\n",
       "      <td>0</td>\n",
       "      <td>0</td>\n",
       "      <td>1</td>\n",
       "      <td>0</td>\n",
       "      <td>0</td>\n",
       "      <td>0</td>\n",
       "      <td>1</td>\n",
       "      <td>0</td>\n",
       "      <td>0</td>\n",
       "    </tr>\n",
       "    <tr>\n",
       "      <th>1</th>\n",
       "      <td>4</td>\n",
       "      <td>2.2</td>\n",
       "      <td>1</td>\n",
       "      <td>1.20</td>\n",
       "      <td>0</td>\n",
       "      <td>1</td>\n",
       "      <td>0</td>\n",
       "      <td>1</td>\n",
       "      <td>0</td>\n",
       "      <td>0</td>\n",
       "      <td>0</td>\n",
       "      <td>1</td>\n",
       "      <td>0</td>\n",
       "      <td>0</td>\n",
       "      <td>0</td>\n",
       "      <td>1</td>\n",
       "      <td>0</td>\n",
       "      <td>0</td>\n",
       "    </tr>\n",
       "    <tr>\n",
       "      <th>2</th>\n",
       "      <td>5</td>\n",
       "      <td>2.4</td>\n",
       "      <td>1</td>\n",
       "      <td>0.95</td>\n",
       "      <td>1</td>\n",
       "      <td>0</td>\n",
       "      <td>0</td>\n",
       "      <td>1</td>\n",
       "      <td>0</td>\n",
       "      <td>0</td>\n",
       "      <td>0</td>\n",
       "      <td>1</td>\n",
       "      <td>0</td>\n",
       "      <td>0</td>\n",
       "      <td>0</td>\n",
       "      <td>1</td>\n",
       "      <td>0</td>\n",
       "      <td>0</td>\n",
       "    </tr>\n",
       "    <tr>\n",
       "      <th>3</th>\n",
       "      <td>6</td>\n",
       "      <td>2.3</td>\n",
       "      <td>1</td>\n",
       "      <td>0.70</td>\n",
       "      <td>0</td>\n",
       "      <td>1</td>\n",
       "      <td>0</td>\n",
       "      <td>0</td>\n",
       "      <td>0</td>\n",
       "      <td>0</td>\n",
       "      <td>0</td>\n",
       "      <td>0</td>\n",
       "      <td>1</td>\n",
       "      <td>0</td>\n",
       "      <td>0</td>\n",
       "      <td>1</td>\n",
       "      <td>0</td>\n",
       "      <td>0</td>\n",
       "    </tr>\n",
       "    <tr>\n",
       "      <th>4</th>\n",
       "      <td>7</td>\n",
       "      <td>2.2</td>\n",
       "      <td>1</td>\n",
       "      <td>1.30</td>\n",
       "      <td>0</td>\n",
       "      <td>1</td>\n",
       "      <td>1</td>\n",
       "      <td>0</td>\n",
       "      <td>0</td>\n",
       "      <td>1</td>\n",
       "      <td>0</td>\n",
       "      <td>0</td>\n",
       "      <td>0</td>\n",
       "      <td>0</td>\n",
       "      <td>0</td>\n",
       "      <td>1</td>\n",
       "      <td>0</td>\n",
       "      <td>0</td>\n",
       "    </tr>\n",
       "  </tbody>\n",
       "</table>\n",
       "</div>"
      ],
      "text/plain": [
       "   Unnamed: 0  Feature_Age  Label_Option  Feature_Average_income  \\\n",
       "0           2          2.2             0                    1.00   \n",
       "1           4          2.2             1                    1.20   \n",
       "2           5          2.4             1                    0.95   \n",
       "3           6          2.3             1                    0.70   \n",
       "4           7          2.2             1                    1.30   \n",
       "\n",
       "   Feature_Employed_No  Feature_Employed_Yes  \\\n",
       "0                    0                     1   \n",
       "1                    0                     1   \n",
       "2                    1                     0   \n",
       "3                    0                     1   \n",
       "4                    0                     1   \n",
       "\n",
       "   Feature_Cashback_spending_Apply to statement balance  \\\n",
       "0                                                  1      \n",
       "1                                                  0      \n",
       "2                                                  0      \n",
       "3                                                  0      \n",
       "4                                                  1      \n",
       "\n",
       "   Feature_Cashback_spending_Redeem as cash  \\\n",
       "0                                         0   \n",
       "1                                         1   \n",
       "2                                         1   \n",
       "3                                         0   \n",
       "4                                         0   \n",
       "\n",
       "   Feature_Cashback_spending_Use to purchase gift cards  \\\n",
       "0                                                  0      \n",
       "1                                                  0      \n",
       "2                                                  0      \n",
       "3                                                  0      \n",
       "4                                                  0      \n",
       "\n",
       "   Feature_Most_expense_Eating out (restaurants, coffee, etc.)  \\\n",
       "0                                                  0             \n",
       "1                                                  0             \n",
       "2                                                  0             \n",
       "3                                                  0             \n",
       "4                                                  1             \n",
       "\n",
       "   Feature_Most_expense_Entertainment (movies, shows, concerts, etc.)  \\\n",
       "0                                                  0                    \n",
       "1                                                  0                    \n",
       "2                                                  0                    \n",
       "3                                                  0                    \n",
       "4                                                  0                    \n",
       "\n",
       "   Feature_Most_expense_Groceries/day-to-day needs  \\\n",
       "0                                                1   \n",
       "1                                                1   \n",
       "2                                                1   \n",
       "3                                                0   \n",
       "4                                                0   \n",
       "\n",
       "   Feature_Most_expense_Other  \\\n",
       "0                           0   \n",
       "1                           0   \n",
       "2                           0   \n",
       "3                           1   \n",
       "4                           0   \n",
       "\n",
       "   Feature_Most_expense_Transportation (Uber, buses, train, subway)  \\\n",
       "0                                                  0                  \n",
       "1                                                  0                  \n",
       "2                                                  0                  \n",
       "3                                                  0                  \n",
       "4                                                  0                  \n",
       "\n",
       "   Feature_Most_expense_Travel  Feature_Education_level_Graduate (Masters)  \\\n",
       "0                            0                                           1   \n",
       "1                            0                                           1   \n",
       "2                            0                                           1   \n",
       "3                            0                                           1   \n",
       "4                            0                                           1   \n",
       "\n",
       "   Feature_Education_level_Other  Feature_Education_level_Undergraduate  \n",
       "0                              0                                      0  \n",
       "1                              0                                      0  \n",
       "2                              0                                      0  \n",
       "3                              0                                      0  \n",
       "4                              0                                      0  "
      ]
     },
     "execution_count": 3,
     "metadata": {},
     "output_type": "execute_result"
    }
   ],
   "source": [
    "data = pd.read_csv('shi_and_song_week10_data_clean.csv')\n",
    "data.head()"
   ]
  },
  {
   "cell_type": "code",
   "execution_count": 4,
   "metadata": {},
   "outputs": [
    {
     "data": {
      "text/html": [
       "<div>\n",
       "<style scoped>\n",
       "    .dataframe tbody tr th:only-of-type {\n",
       "        vertical-align: middle;\n",
       "    }\n",
       "\n",
       "    .dataframe tbody tr th {\n",
       "        vertical-align: top;\n",
       "    }\n",
       "\n",
       "    .dataframe thead th {\n",
       "        text-align: right;\n",
       "    }\n",
       "</style>\n",
       "<table border=\"1\" class=\"dataframe\">\n",
       "  <thead>\n",
       "    <tr style=\"text-align: right;\">\n",
       "      <th></th>\n",
       "      <th>Feature_Age</th>\n",
       "      <th>Label_Option</th>\n",
       "      <th>Feature_Average_income</th>\n",
       "      <th>Feature_Employed_No</th>\n",
       "      <th>Feature_Employed_Yes</th>\n",
       "      <th>Feature_Cashback_spending_Apply to statement balance</th>\n",
       "      <th>Feature_Cashback_spending_Redeem as cash</th>\n",
       "      <th>Feature_Cashback_spending_Use to purchase gift cards</th>\n",
       "      <th>Feature_Most_expense_Eating out (restaurants, coffee, etc.)</th>\n",
       "      <th>Feature_Most_expense_Entertainment (movies, shows, concerts, etc.)</th>\n",
       "      <th>Feature_Most_expense_Groceries/day-to-day needs</th>\n",
       "      <th>Feature_Most_expense_Other</th>\n",
       "      <th>Feature_Most_expense_Transportation (Uber, buses, train, subway)</th>\n",
       "      <th>Feature_Most_expense_Travel</th>\n",
       "      <th>Feature_Education_level_Graduate (Masters)</th>\n",
       "      <th>Feature_Education_level_Other</th>\n",
       "      <th>Feature_Education_level_Undergraduate</th>\n",
       "    </tr>\n",
       "  </thead>\n",
       "  <tbody>\n",
       "    <tr>\n",
       "      <th>0</th>\n",
       "      <td>2.2</td>\n",
       "      <td>0</td>\n",
       "      <td>1.00</td>\n",
       "      <td>0</td>\n",
       "      <td>1</td>\n",
       "      <td>1</td>\n",
       "      <td>0</td>\n",
       "      <td>0</td>\n",
       "      <td>0</td>\n",
       "      <td>0</td>\n",
       "      <td>1</td>\n",
       "      <td>0</td>\n",
       "      <td>0</td>\n",
       "      <td>0</td>\n",
       "      <td>1</td>\n",
       "      <td>0</td>\n",
       "      <td>0</td>\n",
       "    </tr>\n",
       "    <tr>\n",
       "      <th>1</th>\n",
       "      <td>2.2</td>\n",
       "      <td>1</td>\n",
       "      <td>1.20</td>\n",
       "      <td>0</td>\n",
       "      <td>1</td>\n",
       "      <td>0</td>\n",
       "      <td>1</td>\n",
       "      <td>0</td>\n",
       "      <td>0</td>\n",
       "      <td>0</td>\n",
       "      <td>1</td>\n",
       "      <td>0</td>\n",
       "      <td>0</td>\n",
       "      <td>0</td>\n",
       "      <td>1</td>\n",
       "      <td>0</td>\n",
       "      <td>0</td>\n",
       "    </tr>\n",
       "    <tr>\n",
       "      <th>2</th>\n",
       "      <td>2.4</td>\n",
       "      <td>1</td>\n",
       "      <td>0.95</td>\n",
       "      <td>1</td>\n",
       "      <td>0</td>\n",
       "      <td>0</td>\n",
       "      <td>1</td>\n",
       "      <td>0</td>\n",
       "      <td>0</td>\n",
       "      <td>0</td>\n",
       "      <td>1</td>\n",
       "      <td>0</td>\n",
       "      <td>0</td>\n",
       "      <td>0</td>\n",
       "      <td>1</td>\n",
       "      <td>0</td>\n",
       "      <td>0</td>\n",
       "    </tr>\n",
       "    <tr>\n",
       "      <th>3</th>\n",
       "      <td>2.3</td>\n",
       "      <td>1</td>\n",
       "      <td>0.70</td>\n",
       "      <td>0</td>\n",
       "      <td>1</td>\n",
       "      <td>0</td>\n",
       "      <td>0</td>\n",
       "      <td>0</td>\n",
       "      <td>0</td>\n",
       "      <td>0</td>\n",
       "      <td>0</td>\n",
       "      <td>1</td>\n",
       "      <td>0</td>\n",
       "      <td>0</td>\n",
       "      <td>1</td>\n",
       "      <td>0</td>\n",
       "      <td>0</td>\n",
       "    </tr>\n",
       "    <tr>\n",
       "      <th>4</th>\n",
       "      <td>2.2</td>\n",
       "      <td>1</td>\n",
       "      <td>1.30</td>\n",
       "      <td>0</td>\n",
       "      <td>1</td>\n",
       "      <td>1</td>\n",
       "      <td>0</td>\n",
       "      <td>0</td>\n",
       "      <td>1</td>\n",
       "      <td>0</td>\n",
       "      <td>0</td>\n",
       "      <td>0</td>\n",
       "      <td>0</td>\n",
       "      <td>0</td>\n",
       "      <td>1</td>\n",
       "      <td>0</td>\n",
       "      <td>0</td>\n",
       "    </tr>\n",
       "  </tbody>\n",
       "</table>\n",
       "</div>"
      ],
      "text/plain": [
       "   Feature_Age  Label_Option  Feature_Average_income  Feature_Employed_No  \\\n",
       "0          2.2             0                    1.00                    0   \n",
       "1          2.2             1                    1.20                    0   \n",
       "2          2.4             1                    0.95                    1   \n",
       "3          2.3             1                    0.70                    0   \n",
       "4          2.2             1                    1.30                    0   \n",
       "\n",
       "   Feature_Employed_Yes  Feature_Cashback_spending_Apply to statement balance  \\\n",
       "0                     1                                                  1      \n",
       "1                     1                                                  0      \n",
       "2                     0                                                  0      \n",
       "3                     1                                                  0      \n",
       "4                     1                                                  1      \n",
       "\n",
       "   Feature_Cashback_spending_Redeem as cash  \\\n",
       "0                                         0   \n",
       "1                                         1   \n",
       "2                                         1   \n",
       "3                                         0   \n",
       "4                                         0   \n",
       "\n",
       "   Feature_Cashback_spending_Use to purchase gift cards  \\\n",
       "0                                                  0      \n",
       "1                                                  0      \n",
       "2                                                  0      \n",
       "3                                                  0      \n",
       "4                                                  0      \n",
       "\n",
       "   Feature_Most_expense_Eating out (restaurants, coffee, etc.)  \\\n",
       "0                                                  0             \n",
       "1                                                  0             \n",
       "2                                                  0             \n",
       "3                                                  0             \n",
       "4                                                  1             \n",
       "\n",
       "   Feature_Most_expense_Entertainment (movies, shows, concerts, etc.)  \\\n",
       "0                                                  0                    \n",
       "1                                                  0                    \n",
       "2                                                  0                    \n",
       "3                                                  0                    \n",
       "4                                                  0                    \n",
       "\n",
       "   Feature_Most_expense_Groceries/day-to-day needs  \\\n",
       "0                                                1   \n",
       "1                                                1   \n",
       "2                                                1   \n",
       "3                                                0   \n",
       "4                                                0   \n",
       "\n",
       "   Feature_Most_expense_Other  \\\n",
       "0                           0   \n",
       "1                           0   \n",
       "2                           0   \n",
       "3                           1   \n",
       "4                           0   \n",
       "\n",
       "   Feature_Most_expense_Transportation (Uber, buses, train, subway)  \\\n",
       "0                                                  0                  \n",
       "1                                                  0                  \n",
       "2                                                  0                  \n",
       "3                                                  0                  \n",
       "4                                                  0                  \n",
       "\n",
       "   Feature_Most_expense_Travel  Feature_Education_level_Graduate (Masters)  \\\n",
       "0                            0                                           1   \n",
       "1                            0                                           1   \n",
       "2                            0                                           1   \n",
       "3                            0                                           1   \n",
       "4                            0                                           1   \n",
       "\n",
       "   Feature_Education_level_Other  Feature_Education_level_Undergraduate  \n",
       "0                              0                                      0  \n",
       "1                              0                                      0  \n",
       "2                              0                                      0  \n",
       "3                              0                                      0  \n",
       "4                              0                                      0  "
      ]
     },
     "execution_count": 4,
     "metadata": {},
     "output_type": "execute_result"
    }
   ],
   "source": [
    "# drop unnecessary index\n",
    "data = data.drop('Unnamed: 0', axis=1)\n",
    "data.head()"
   ]
  },
  {
   "cell_type": "markdown",
   "metadata": {},
   "source": [
    "## Section 3) Show the output of your model training with your harvested data set (30%)"
   ]
  },
  {
   "cell_type": "code",
   "execution_count": 5,
   "metadata": {},
   "outputs": [],
   "source": [
    " # Define a dataframe with only features\n",
    "data_feat = data.drop(\"Label_Option\",axis=1) \n",
    "data_target=data['Label_Option']\n",
    "#Split train and test set\n",
    "x = data_feat\n",
    "y = data_target\n",
    "x_train, x_test, y_train, y_test = train_test_split(x, y, test_size=0.2,random_state=47)"
   ]
  },
  {
   "cell_type": "code",
   "execution_count": 6,
   "metadata": {},
   "outputs": [
    {
     "name": "stdout",
     "output_type": "stream",
     "text": [
      "train accuracy for Linear SVC: 0.7419354838709677\n",
      "test accuracy for Linear SVC: 0.5\n"
     ]
    }
   ],
   "source": [
    "# modle training and accuracy\n",
    "classL = LinearSVC()\n",
    "classL.fit(x_train, y_train)\n",
    "predl_test = classL.predict(x_test)\n",
    "predl_train = classL.predict(x_train)\n",
    "print(\"train accuracy for Linear SVC:\",accuracy_score(y_train, predl_train))\n",
    "print(\"test accuracy for Linear SVC:\",accuracy_score(y_test, predl_test))"
   ]
  },
  {
   "cell_type": "code",
   "execution_count": 7,
   "metadata": {},
   "outputs": [],
   "source": [
    "# Make confusion matrix\n",
    "def plot_confusion_matrix(cm, classes,\n",
    "                          normalize=False,\n",
    "                          title='Confusion matrix',\n",
    "                          cmap=plt.cm.Blues):\n",
    "    \"\"\"\n",
    "    This function prints and plots the confusion matrix.\n",
    "    Normalization can be applied by setting `normalize=True`.\n",
    "    \"\"\"\n",
    "    plt.imshow(cm, interpolation='nearest', cmap=cmap)\n",
    "    plt.title(title)\n",
    "    plt.colorbar()\n",
    "    tick_marks = np.arange(len(classes))\n",
    "    plt.xticks(tick_marks, classes, rotation=45)\n",
    "    plt.yticks(tick_marks, classes)\n",
    "\n",
    "    if normalize:\n",
    "        cm = np.around((cm.astype('float') / cm.sum(axis=1)[:, np.newaxis]),decimals=2)\n",
    "        print(\"Normalized confusion matrix\")\n",
    "    else:\n",
    "        print('Confusion matrix, without normalization')\n",
    "\n",
    "    print(cm)\n",
    "\n",
    "    thresh = cm.max() / 2.\n",
    "    for i, j in itertools.product(range(cm.shape[0]), range(cm.shape[1])):\n",
    "        plt.text(j, i, cm[i, j],\n",
    "                 horizontalalignment=\"center\",\n",
    "                 color=\"white\" if cm[i, j] > thresh else \"black\")\n",
    "\n",
    "    plt.tight_layout()\n",
    "    plt.ylabel('True label')\n",
    "    plt.xlabel('Predicted label')"
   ]
  },
  {
   "cell_type": "code",
   "execution_count": 8,
   "metadata": {},
   "outputs": [
    {
     "data": {
      "image/png": "[encoded data removed]",
      "text/plain": [
       "<Figure size 432x288 with 2 Axes>"
      ]
     },
     "metadata": {
      "needs_background": "light"
     },
     "output_type": "display_data"
    }
   ],
   "source": [
    "# display confusion matrix for training dataset\n",
    "skplt.metrics.plot_confusion_matrix(y_train,predl_train, normalize= False)\n",
    "plt.show()"
   ]
  },
  {
   "cell_type": "markdown",
   "metadata": {},
   "source": [
    "#### From confusion matrix we can tell that our model performs okay"
   ]
  },
  {
   "cell_type": "code",
   "execution_count": 9,
   "metadata": {},
   "outputs": [
    {
     "data": {
      "image/png": "[encoded data removed]",
      "text/plain": [
       "<Figure size 432x288 with 2 Axes>"
      ]
     },
     "metadata": {
      "needs_background": "light"
     },
     "output_type": "display_data"
    }
   ],
   "source": [
    "# display confusion matrix for testing dataset\n",
    "skplt.metrics.plot_confusion_matrix(y_test,predl_test, normalize= False)\n",
    "plt.show()"
   ]
  },
  {
   "cell_type": "markdown",
   "metadata": {},
   "source": [
    "#### Our model under performs on test dataset, one of the reason could be overfitting since our dataset is relatively small"
   ]
  },
  {
   "cell_type": "markdown",
   "metadata": {},
   "source": [
    "## Let's try another model"
   ]
  },
  {
   "cell_type": "code",
   "execution_count": 10,
   "metadata": {},
   "outputs": [],
   "source": [
    "from sklearn.ensemble import RandomForestClassifier\n",
    "from sklearn.datasets import make_classification\n",
    "from sklearn.model_selection import train_test_split\n",
    "from sklearn.ensemble import RandomForestClassifier\n",
    "from sklearn.feature_selection import SelectFromModel\n",
    "from sklearn.metrics import accuracy_score"
   ]
  },
  {
   "cell_type": "code",
   "execution_count": 11,
   "metadata": {},
   "outputs": [],
   "source": [
    "# train randomforest model \n",
    "clf = RandomForestClassifier(n_estimators=100, random_state=0, n_jobs=-1)\n",
    "clf.fit(x_train, y_train)\n",
    "y_pred = clf.predict(x_test)"
   ]
  },
  {
   "cell_type": "code",
   "execution_count": 12,
   "metadata": {},
   "outputs": [
    {
     "name": "stdout",
     "output_type": "stream",
     "text": [
      "Accuracy:  0.5\n"
     ]
    }
   ],
   "source": [
    "# check accuracy\n",
    "print('Accuracy: ', accuracy_score(y_test, y_pred))"
   ]
  },
  {
   "cell_type": "code",
   "execution_count": 13,
   "metadata": {},
   "outputs": [
    {
     "data": {
      "image/png": "[encoded data removed]",
      "text/plain": [
       "<Figure size 432x288 with 2 Axes>"
      ]
     },
     "metadata": {
      "needs_background": "light"
     },
     "output_type": "display_data"
    }
   ],
   "source": [
    "pred_train = clf.predict(x_train)\n",
    "# display confusion matrix for training dataset\n",
    "skplt.metrics.plot_confusion_matrix(y_train,pred_train, normalize= False)\n",
    "plt.show()"
   ]
  },
  {
   "cell_type": "markdown",
   "metadata": {},
   "source": [
    "### Training dataset seems perform well"
   ]
  },
  {
   "cell_type": "code",
   "execution_count": 14,
   "metadata": {},
   "outputs": [
    {
     "data": {
      "image/png": "[encoded data removed]",
      "text/plain": [
       "<Figure size 432x288 with 2 Axes>"
      ]
     },
     "metadata": {
      "needs_background": "light"
     },
     "output_type": "display_data"
    }
   ],
   "source": [
    "pred_test = clf.predict(x_test)\n",
    "# display confusion matrix for test dataset\n",
    "skplt.metrics.plot_confusion_matrix(y_test,pred_test, normalize= False)\n",
    "plt.show()"
   ]
  },
  {
   "cell_type": "markdown",
   "metadata": {},
   "source": [
    "### Seems like test dataset for randomforest still underperforms\n",
    "### Let's apply feature selection see if that helps"
   ]
  },
  {
   "cell_type": "code",
   "execution_count": 15,
   "metadata": {},
   "outputs": [
    {
     "data": {
      "text/plain": [
       "SelectFromModel(estimator=RandomForestClassifier(n_jobs=-1, random_state=0))"
      ]
     },
     "execution_count": 15,
     "metadata": {},
     "output_type": "execute_result"
    }
   ],
   "source": [
    "# apply feature selection to improve accuracy\n",
    "sel = SelectFromModel(RandomForestClassifier(n_estimators=100, random_state=0, n_jobs=-1))\n",
    "sel.fit(x_train, y_train)"
   ]
  },
  {
   "cell_type": "code",
   "execution_count": 16,
   "metadata": {},
   "outputs": [],
   "source": [
    "# transform to selected feature\n",
    "x_train_rfc = sel.transform(x_train)\n",
    "x_test_rfc = sel.transform(x_test)"
   ]
  },
  {
   "cell_type": "markdown",
   "metadata": {},
   "source": [
    "## Suprisingly, only two features were selected"
   ]
  },
  {
   "cell_type": "code",
   "execution_count": 17,
   "metadata": {},
   "outputs": [
    {
     "data": {
      "text/plain": [
       "Index(['Feature_Age', 'Feature_Average_income'], dtype='object')"
      ]
     },
     "execution_count": 17,
     "metadata": {},
     "output_type": "execute_result"
    }
   ],
   "source": [
    "# features that selected\n",
    "x_train.columns[sel.get_support()]"
   ]
  },
  {
   "cell_type": "code",
   "execution_count": 18,
   "metadata": {},
   "outputs": [
    {
     "name": "stdout",
     "output_type": "stream",
     "text": [
      "Accuracy:  0.75\n"
     ]
    }
   ],
   "source": [
    "# run model\n",
    "clf.fit(x_train_rfc, y_train)\n",
    "y_pred = clf.predict(x_test_rfc)\n",
    "print('Accuracy: ', accuracy_score(y_test, y_pred))"
   ]
  },
  {
   "cell_type": "markdown",
   "metadata": {},
   "source": [
    "## This time accuracy is still unsatisfied but it improved a lot"
   ]
  },
  {
   "cell_type": "markdown",
   "metadata": {},
   "source": [
    "## Section 4) Save your ML model for distribution (10%)"
   ]
  },
  {
   "cell_type": "code",
   "execution_count": 19,
   "metadata": {},
   "outputs": [],
   "source": [
    "# save model\n",
    "import pickle\n",
    "RF_Filename = \"Pickle_RF_Model.pkl\"  \n",
    "\n",
    "with open(RF_Filename, 'wb') as file:  \n",
    "    pickle.dump(clf, file)"
   ]
  },
  {
   "cell_type": "code",
   "execution_count": 20,
   "metadata": {},
   "outputs": [
    {
     "data": {
      "text/plain": [
       "RandomForestClassifier(n_jobs=-1, random_state=0)"
      ]
     },
     "execution_count": 20,
     "metadata": {},
     "output_type": "execute_result"
    }
   ],
   "source": [
    "# Load the Model back from file\n",
    "with open(RF_Filename, 'rb') as file:  \n",
    "    Shi_Song_week11_Model = pickle.load(file)\n",
    "\n",
    "Shi_Song_week11_Model"
   ]
  },
  {
   "cell_type": "markdown",
   "metadata": {},
   "source": [
    "## Section 5) Inference test of your model (20%)"
   ]
  },
  {
   "cell_type": "markdown",
   "metadata": {},
   "source": [
    "### Since the data is collected from university, this limit our model that it only works for students. Though the model estimates universal features and predict output, the result won't be accurate because the model is trained specifically for data from students. In another words, the algorithm recognizes patterns or relationship in students data and won't perform well if the data jump out of the scope. "
   ]
  },
  {
   "cell_type": "markdown",
   "metadata": {},
   "source": [
    "### I collected my roommate's information to test the model"
   ]
  },
  {
   "cell_type": "markdown",
   "metadata": {},
   "source": [
    "### Since the improved model only takes two feature, I created a dataset that contains my roommates' information. All three of them like the idea and would like to apply a credit card that they can invest with cash bonus"
   ]
  },
  {
   "cell_type": "code",
   "execution_count": 21,
   "metadata": {},
   "outputs": [],
   "source": [
    "# create dataset\n",
    "df_feature = pd.DataFrame(np.array([[37, 1000], [26, 800], [25, 700]]),\n",
    "                   columns=['age','average_income'])"
   ]
  },
  {
   "cell_type": "code",
   "execution_count": 22,
   "metadata": {},
   "outputs": [
    {
     "data": {
      "text/html": [
       "<div>\n",
       "<style scoped>\n",
       "    .dataframe tbody tr th:only-of-type {\n",
       "        vertical-align: middle;\n",
       "    }\n",
       "\n",
       "    .dataframe tbody tr th {\n",
       "        vertical-align: top;\n",
       "    }\n",
       "\n",
       "    .dataframe thead th {\n",
       "        text-align: right;\n",
       "    }\n",
       "</style>\n",
       "<table border=\"1\" class=\"dataframe\">\n",
       "  <thead>\n",
       "    <tr style=\"text-align: right;\">\n",
       "      <th></th>\n",
       "      <th>age</th>\n",
       "      <th>average_income</th>\n",
       "    </tr>\n",
       "  </thead>\n",
       "  <tbody>\n",
       "    <tr>\n",
       "      <th>0</th>\n",
       "      <td>3.7</td>\n",
       "      <td>1.0</td>\n",
       "    </tr>\n",
       "    <tr>\n",
       "      <th>1</th>\n",
       "      <td>2.6</td>\n",
       "      <td>0.8</td>\n",
       "    </tr>\n",
       "    <tr>\n",
       "      <th>2</th>\n",
       "      <td>2.5</td>\n",
       "      <td>0.7</td>\n",
       "    </tr>\n",
       "  </tbody>\n",
       "</table>\n",
       "</div>"
      ],
      "text/plain": [
       "   age  average_income\n",
       "0  3.7             1.0\n",
       "1  2.6             0.8\n",
       "2  2.5             0.7"
      ]
     },
     "execution_count": 22,
     "metadata": {},
     "output_type": "execute_result"
    }
   ],
   "source": [
    "# scale income and age\n",
    "df_feature[\"age\"] = df_feature[\"age\"].apply(lambda x: x/10)\n",
    "df_feature[\"average_income\"] = df_feature[\"average_income\"].apply(lambda x: x/1000)\n",
    "df_feature"
   ]
  },
  {
   "cell_type": "code",
   "execution_count": 23,
   "metadata": {},
   "outputs": [],
   "source": [
    "# convert output to list\n",
    "result = Shi_Song_week11_Model.predict(df_feature).tolist()"
   ]
  },
  {
   "cell_type": "code",
   "execution_count": 24,
   "metadata": {},
   "outputs": [
    {
     "name": "stdout",
     "output_type": "stream",
     "text": [
      "students would like to try investing with credit card\n",
      "students would like to try investing with credit card\n",
      "students would not like to try investing with credit card\n"
     ]
    }
   ],
   "source": [
    "# print output\n",
    "for a in result:\n",
    "    if a == 1:\n",
    "        print('students would like to try investing with credit card')\n",
    "    else:\n",
    "        print('students would not like to try investing with credit card')\n"
   ]
  },
  {
   "cell_type": "markdown",
   "metadata": {},
   "source": [
    "### The model successful predict the two outcomes and failed on one"
   ]
  },
  {
   "cell_type": "markdown",
   "metadata": {},
   "source": [
    "## Section 6) Summary (10%)"
   ]
  },
  {
   "cell_type": "markdown",
   "metadata": {},
   "source": [
    "### In general, our model didn't perform well. I tried with different samples and somehow the model has a high bias in invest option. Main reason is the limition of the dataset. Perhaps there are other key features that we didn't include in our survey. We should do more research in students' financial behavior and dig deeper to identify more features that may explain students' financial choice"
   ]
  },
  {
   "cell_type": "code",
   "execution_count": null,
   "metadata": {},
   "outputs": [],
   "source": []
  }
 ],
 "metadata": {
  "kernelspec": {
   "display_name": "Python 3",
   "language": "python",
   "name": "python3"
  },
  "language_info": {
   "codemirror_mode": {
    "name": "ipython",
    "version": 3
   },
   "file_extension": ".py",
   "mimetype": "text/x-python",
   "name": "python",
   "nbconvert_exporter": "python",
   "pygments_lexer": "ipython3",
   "version": "3.7.3"
  }
 },
 "nbformat": 4,
 "nbformat_minor": 4
}
